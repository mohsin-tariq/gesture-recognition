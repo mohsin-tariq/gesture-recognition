{
  "cells": [
    {
      "cell_type": "markdown",
      "metadata": {
        "id": "view-in-github",
        "colab_type": "text"
      },
      "source": [
        "<a href=\"https://colab.research.google.com/github/mohsin-tariq/gesture-recognition/blob/main/gesture-recognition.ipynb\" target=\"_parent\"><img src=\"https://colab.research.google.com/assets/colab-badge.svg\" alt=\"Open In Colab\"/></a>"
      ]
    },
    {
      "cell_type": "markdown",
      "metadata": {
        "id": "Tb83mvTfn6vc"
      },
      "source": [
        "# Gesture Recognition\n",
        "In this group project, you are going to build a 3D Conv model that will be able to predict the 5 gestures correctly. Please import the following libraries to get started."
      ]
    },
    {
      "cell_type": "code",
      "execution_count": 1,
      "metadata": {
        "id": "T7SHWskAn6vg"
      },
      "outputs": [],
      "source": [
        "import numpy as np\n",
        "import os\n",
        "import datetime\n",
        "import imageio.v2 as imageio\n",
        "from PIL import Image\n",
        "import matplotlib.pyplot as plt\n"
      ]
    },
    {
      "cell_type": "markdown",
      "metadata": {
        "id": "fuJKxyUgn6vi"
      },
      "source": [
        "We set the random seed so that the results don't vary drastically."
      ]
    },
    {
      "cell_type": "code",
      "execution_count": 2,
      "metadata": {
        "id": "V8-VSgs2n6vi"
      },
      "outputs": [],
      "source": [
        "import os\n",
        "os.environ['PYTHONHASHSEED']=\"30\"\n",
        "np.random.seed(30)\n",
        "import random as rn\n",
        "rn.seed(30)\n",
        "from keras import backend as K\n",
        "import tensorflow as tf\n",
        "tf.random.set_seed(30)"
      ]
    },
    {
      "cell_type": "markdown",
      "metadata": {
        "id": "oayn8Hbrn6vk"
      },
      "source": [
        "In this block, you read the folder names for training and validation. You also set the `batch_size` here. Note that you set the batch size in such a way that you are able to use the GPU in full capacity. You keep increasing the batch size until the machine throws an error."
      ]
    },
    {
      "cell_type": "code",
      "execution_count": 3,
      "metadata": {
        "colab": {
          "base_uri": "https://localhost:8080/"
        },
        "id": "mNU-tq3sxLVY",
        "outputId": "2f6916c4-537d-4555-fd1c-2047119b1ee2"
      },
      "outputs": [
        {
          "output_type": "stream",
          "name": "stdout",
          "text": [
            "Mounted at /content/drive\n"
          ]
        }
      ],
      "source": [
        "from google.colab import drive\n",
        "drive.mount('/content/drive')"
      ]
    },
    {
      "cell_type": "code",
      "execution_count": 4,
      "metadata": {
        "id": "jOsXkoukn6vk"
      },
      "outputs": [],
      "source": [
        "#defining variables to be used\n",
        "\n",
        "train_doc = np.random.permutation(open('/content/drive/MyDrive/cnn_rnn/train.csv').readlines())\n",
        "val_doc = np.random.permutation(open('/content/drive/MyDrive/cnn_rnn/val.csv').readlines())\n",
        "batch_size = 64\n",
        "image_index = 2\n",
        "# image dimensions\n",
        "dim_x, dim_y = 120, 120\n",
        "batches = range(6,28,2)"
      ]
    },
    {
      "cell_type": "markdown",
      "metadata": {
        "id": "izy-fmw2n6vk"
      },
      "source": [
        "## Generator\n",
        "This is one of the most important part of the code. The overall structure of the generator has been given. In the generator, you are going to preprocess the images as you have images of 2 different dimensions as well as create a batch of video frames. You have to experiment with `img_idx`, `y`,`z` and normalization such that you get high accuracy."
      ]
    },
    {
      "cell_type": "code",
      "execution_count": 4,
      "metadata": {
        "id": "Axaegca57N8d"
      },
      "outputs": [],
      "source": []
    },
    {
      "cell_type": "code",
      "execution_count": 5,
      "metadata": {
        "id": "L68Sapx_n6vk"
      },
      "outputs": [],
      "source": [
        "def generator(source_path, folder_list, batch_size, imgShow):\n",
        "    print( 'Source path = ', source_path, '; batch size =', batch_size, 'showImage=', imgShow)\n",
        "    img_idx = batches\n",
        "    x = len(img_idx)\n",
        "    y, z = dim_x, dim_y\n",
        "    while True:\n",
        "        t = np.random.permutation(folder_list)\n",
        "        num_batches = 10\n",
        "        for batch in range(num_batches): # we iterate over the number of batches\n",
        "            batch_data = np.zeros((batch_size,x,y,z,3)) # x is the number of images you use for each video, (y,z) is the final size of the input images and 3 is the number of channels RGB\n",
        "            batch_labels = np.zeros((batch_size,5)) # batch_labels is the one hot representation of the output\n",
        "            for folder in range(batch_size): # iterate over the batch_size\n",
        "                imgs = os.listdir(source_path+'/'+ t[folder + (batch*batch_size)].split(';')[0]) # read all the images in the folder\n",
        "                for idx,item in enumerate(img_idx): #  Iterate iver the frames/images of a folder to read them in\n",
        "                    image = imageio.imread(source_path+'/'+ t[folder + (batch*batch_size)].strip().split(';')[0]+'/'+imgs[item])\n",
        "\n",
        "                    #crop the images and resize them. Note that the images are of 2 different shape\n",
        "                    if image.shape[1] > image.shape[0]:\n",
        "                        diff_px = image.shape[1] - image.shape[0]\n",
        "                        crop_start = diff_px//2\n",
        "                        crop_end = crop_start + image.shape[0]\n",
        "                        image = image[:, crop_start:crop_end]\n",
        "                    elif image.shape[0] > image.shape[1]:\n",
        "                        diff_px = image.shape[0] - image.shape[1]\n",
        "                        crop_start = diff_px//2\n",
        "                        crop_end = crop_start + image.shape[1]\n",
        "                        image = image[:, crop_start:crop_end]\n",
        "\n",
        "                    resized_im = Image.fromarray(image).resize((y, z))\n",
        "\n",
        "                    if imgShow:\n",
        "                        plt.subplot(2, x, idx+x+1)\n",
        "                        plt.imshow(resized_im)\n",
        "                    resized_image_array = np.array(resized_im)\n",
        "\n",
        "                    #and the conv3D will throw error if the inputs in a batch have different shapes\n",
        "\n",
        "                    batch_data[folder,idx,:,:,0] = resized_image_array[:,:,0]/255 #normalise and feed in the image\n",
        "                    batch_data[folder,idx,:,:,1] = resized_image_array[:,:,1]/255 #normalise and feed in the image\n",
        "                    batch_data[folder,idx,:,:,2] = resized_image_array[:,:,2]/255 #normalise and feed in the image\n",
        "\n",
        "                batch_labels[folder, int(t[folder + (batch*batch_size)].strip().split(';')[2])] = 1\n",
        "            yield batch_data, batch_labels #you yield the batch_data and the batch_labels, remember what does yield do\n",
        "\n",
        "\n",
        "        # write the code for the remaining data points which are left after full batches\n"
      ]
    },
    {
      "cell_type": "markdown",
      "metadata": {
        "id": "2kKQJuGOn6vl"
      },
      "source": [
        "Note here that a video is represented above in the generator as (number of images, height, width, number of channels). Take this into consideration while creating the model architecture."
      ]
    },
    {
      "cell_type": "code",
      "execution_count": 6,
      "metadata": {
        "colab": {
          "base_uri": "https://localhost:8080/"
        },
        "id": "z7stKAnhn6vl",
        "outputId": "ce46c209-b8a5-4901-b991-a6f9955b6af9"
      },
      "outputs": [
        {
          "output_type": "stream",
          "name": "stdout",
          "text": [
            "# training sequences = 663\n",
            "# validation sequences = 100\n",
            "# epochs = 2\n",
            "# curr_dt_time= 2024-03-06 08:03:34.975181\n"
          ]
        }
      ],
      "source": [
        "curr_dt_time = datetime.datetime.now()\n",
        "train_path = '/content/drive/MyDrive/cnn_rnn/train'\n",
        "val_path = '/content/drive/MyDrive/cnn_rnn/val'\n",
        "num_train_sequences = len(train_doc)\n",
        "print('# training sequences =', num_train_sequences)\n",
        "num_val_sequences = len(val_doc)\n",
        "print('# validation sequences =', num_val_sequences)\n",
        "num_epochs = 2\n",
        "print ('# epochs =', num_epochs)\n",
        "print('# curr_dt_time=', curr_dt_time)"
      ]
    },
    {
      "cell_type": "code",
      "execution_count": 7,
      "metadata": {
        "colab": {
          "base_uri": "https://localhost:8080/",
          "height": 121
        },
        "id": "gwHLSiMNdDgP",
        "outputId": "ef665718-97de-48d9-e104-8817fc5528a6"
      },
      "outputs": [
        {
          "output_type": "stream",
          "name": "stdout",
          "text": [
            "Source path =  /content/drive/MyDrive/cnn_rnn/train ; batch size = 6 showImage= True\n"
          ]
        },
        {
          "output_type": "display_data",
          "data": {
            "text/plain": [
              "<Figure size 640x480 with 11 Axes>"
            ],
            "image/png": "[encoded data removed]"
          },
          "metadata": {}
        }
      ],
      "source": [
        "# testing generative\n",
        "generatedData = generator(train_path, train_doc, 6, True)\n",
        "d = next(generatedData)[0]\n"
      ]
    },
    {
      "cell_type": "markdown",
      "metadata": {
        "id": "G-TPlWSnn6vl"
      },
      "source": [
        "## Model\n",
        "Here you make the model using different functionalities that Keras provides. Remember to use `Conv3D` and `MaxPooling3D` and not `Conv2D` and `Maxpooling2D` for a 3D convolution model. You would want to use `TimeDistributed` while building a Conv2D + RNN model. Also remember that the last layer is the softmax. Design the network in such a way that the model is able to give good accuracy on the least number of parameters so that it can fit in the memory of the webcam."
      ]
    },
    {
      "cell_type": "code",
      "execution_count": 8,
      "metadata": {
        "id": "yIZ37NVVqSjS"
      },
      "outputs": [],
      "source": [
        "def modelSummary(model):\n",
        "  optimiser = optimizers.Adam(learning_rate=0.01)\n",
        "  model.compile(optimizer=optimiser, loss='categorical_crossentropy', metrics=['categorical_accuracy'])\n",
        "  print (model.summary())"
      ]
    },
    {
      "cell_type": "code",
      "execution_count": 9,
      "metadata": {
        "id": "KcDzAmOpn6vl"
      },
      "outputs": [],
      "source": [
        "from keras.models import Sequential, Model\n",
        "from keras.layers import Dense, GRU, Flatten, TimeDistributed, Flatten, BatchNormalization, Activation\n",
        "from keras.layers import Conv3D, MaxPooling3D, Conv2D, ConvLSTM2D, GlobalAveragePooling2D, MaxPooling2D, Dropout, GlobalAveragePooling3D\n",
        "from keras.callbacks import ModelCheckpoint, ReduceLROnPlateau\n",
        "from keras import optimizers\n",
        "\n",
        "# new_batch = range(5,50,2)\n",
        "#input shape for the st layer\n",
        "input_shape = (len(batches), dim_x, dim_y, 3)\n",
        "np.random.seed(30)\n",
        "#write your model here"
      ]
    },
    {
      "cell_type": "code",
      "execution_count": 10,
      "metadata": {
        "colab": {
          "base_uri": "https://localhost:8080/"
        },
        "id": "cLYfeW5rpwwB",
        "outputId": "2a0bd294-8f6a-4634-d6fb-cb120e2b349a"
      },
      "outputs": [
        {
          "output_type": "stream",
          "name": "stdout",
          "text": [
            "Model: \"sequential\"\n",
            "_________________________________________________________________\n",
            " Layer (type)                Output Shape              Param #   \n",
            "=================================================================\n",
            " conv3d (Conv3D)             (None, 9, 118, 118, 32)   2624      \n",
            "                                                                 \n",
            " max_pooling3d (MaxPooling3  (None, 4, 59, 59, 32)     0         \n",
            " D)                                                              \n",
            "                                                                 \n",
            " conv3d_1 (Conv3D)           (None, 2, 57, 57, 64)     55360     \n",
            "                                                                 \n",
            " max_pooling3d_1 (MaxPoolin  (None, 1, 28, 28, 64)     0         \n",
            " g3D)                                                            \n",
            "                                                                 \n",
            " flatten (Flatten)           (None, 50176)             0         \n",
            "                                                                 \n",
            " dense (Dense)               (None, 256)               12845312  \n",
            "                                                                 \n",
            " dense_1 (Dense)             (None, 10)                2570      \n",
            "                                                                 \n",
            "=================================================================\n",
            "Total params: 12905866 (49.23 MB)\n",
            "Trainable params: 12905866 (49.23 MB)\n",
            "Non-trainable params: 0 (0.00 Byte)\n",
            "_________________________________________________________________\n",
            "None\n"
          ]
        }
      ],
      "source": [
        "# Model 1, Conv3d\n",
        "\n",
        "model_1 = Sequential()\n",
        "model_1.add(Conv3D(32, kernel_size=3, activation='relu', input_shape=input_shape))\n",
        "model_1.add(MaxPooling3D(pool_size=2))\n",
        "\n",
        "model_1.add(Conv3D(64, kernel_size=3, activation='relu'))\n",
        "model_1.add(MaxPooling3D(pool_size=2))\n",
        "\n",
        "model_1.add(Flatten())\n",
        "model_1.add(Dense(256, activation='relu'))\n",
        "model_1.add(Dense(10, activation='softmax'))\n",
        "\n",
        "\n",
        "modelSummary(model_1)"
      ]
    },
    {
      "cell_type": "code",
      "execution_count": 11,
      "metadata": {
        "colab": {
          "base_uri": "https://localhost:8080/"
        },
        "id": "BbrB4jiZru8T",
        "outputId": "92c7412b-ff18-4931-8ca6-c099a47dade0"
      },
      "outputs": [
        {
          "output_type": "stream",
          "name": "stdout",
          "text": [
            "Model: \"sequential_1\"\n",
            "_________________________________________________________________\n",
            " Layer (type)                Output Shape              Param #   \n",
            "=================================================================\n",
            " conv3d_2 (Conv3D)           (None, 9, 118, 118, 32)   2624      \n",
            "                                                                 \n",
            " conv3d_3 (Conv3D)           (None, 7, 116, 116, 64)   55360     \n",
            "                                                                 \n",
            " max_pooling3d_2 (MaxPoolin  (None, 3, 58, 58, 64)     0         \n",
            " g3D)                                                            \n",
            "                                                                 \n",
            " conv3d_4 (Conv3D)           (None, 1, 56, 56, 64)     110656    \n",
            "                                                                 \n",
            " max_pooling3d_3 (MaxPoolin  (None, 1, 56, 56, 64)     0         \n",
            " g3D)                                                            \n",
            "                                                                 \n",
            " conv3d_5 (Conv3D)           (None, 1, 56, 56, 256)    442624    \n",
            "                                                                 \n",
            " max_pooling3d_4 (MaxPoolin  (None, 1, 28, 28, 256)    0         \n",
            " g3D)                                                            \n",
            "                                                                 \n",
            " conv3d_6 (Conv3D)           (None, 1, 28, 28, 512)    3539456   \n",
            "                                                                 \n",
            " flatten_1 (Flatten)         (None, 401408)            0         \n",
            "                                                                 \n",
            " dense_2 (Dense)             (None, 512)               205521408 \n",
            "                                                                 \n",
            " dense_3 (Dense)             (None, 5)                 2565      \n",
            "                                                                 \n",
            "=================================================================\n",
            "Total params: 209674693 (799.85 MB)\n",
            "Trainable params: 209674693 (799.85 MB)\n",
            "Non-trainable params: 0 (0.00 Byte)\n",
            "_________________________________________________________________\n",
            "None\n"
          ]
        }
      ],
      "source": [
        "# Model 2, Conv3d\n",
        "\n",
        "model_2 = Sequential()\n",
        "\n",
        "model_2.add(Conv3D(32, kernel_size=3, activation='relu', input_shape=input_shape))\n",
        "model_2.add(Conv3D(64, kernel_size=3, activation='relu'))\n",
        "model_2.add(MaxPooling3D(pool_size=(2, 2, 2)))\n",
        "\n",
        "model_2.add(Conv3D(64, kernel_size=3, activation='relu'))\n",
        "model_2.add(MaxPooling3D(pool_size=(2, 2, 2), strides=(1, 1, 1), padding='same'))\n",
        "\n",
        "model_2.add(Conv3D(256, kernel_size=(3, 3, 3), activation='relu', padding='same'))\n",
        "model_2.add(MaxPooling3D(pool_size=(3, 2, 2), strides=(2, 2, 2), padding='same'))\n",
        "model_2.add(Conv3D(512, kernel_size=(3, 3, 3), activation='relu', padding='same'))\n",
        "model_2.add(Flatten())\n",
        "model_2.add(Dense(512, activation='relu'))\n",
        "model_2.add(Dense(5, activation='softmax'))\n",
        "\n",
        "modelSummary(model_2)\n"
      ]
    },
    {
      "cell_type": "code",
      "execution_count": null,
      "metadata": {
        "colab": {
          "base_uri": "https://localhost:8080/"
        },
        "id": "HzJ97HBD4Xz7",
        "outputId": "5d63cfb3-e4db-4305-e924-ede501fcac00"
      },
      "outputs": [
        {
          "name": "stdout",
          "output_type": "stream",
          "text": [
            "Model: \"sequential_16\"\n",
            "_________________________________________________________________\n",
            " Layer (type)                Output Shape              Param #   \n",
            "=================================================================\n",
            " conv3d_33 (Conv3D)          (None, 21, 118, 118, 32   2624      \n",
            "                             )                                   \n",
            "                                                                 \n",
            " conv3d_34 (Conv3D)          (None, 19, 116, 116, 64   55360     \n",
            "                             )                                   \n",
            "                                                                 \n",
            " max_pooling3d_23 (MaxPooli  (None, 9, 58, 58, 64)     0         \n",
            " ng3D)                                                           \n",
            "                                                                 \n",
            " conv3d_35 (Conv3D)          (None, 7, 56, 56, 128)    221312    \n",
            "                                                                 \n",
            " max_pooling3d_24 (MaxPooli  (None, 7, 28, 28, 128)    0         \n",
            " ng3D)                                                           \n",
            "                                                                 \n",
            " conv3d_36 (Conv3D)          (None, 7, 26, 26, 256)    295168    \n",
            "                                                                 \n",
            " max_pooling3d_25 (MaxPooli  (None, 7, 13, 13, 256)    0         \n",
            " ng3D)                                                           \n",
            "                                                                 \n",
            " conv3d_37 (Conv3D)          (None, 7, 11, 11, 512)    1180160   \n",
            "                                                                 \n",
            " conv3d_38 (Conv3D)          (None, 7, 9, 9, 512)      2359808   \n",
            "                                                                 \n",
            " max_pooling3d_26 (MaxPooli  (None, 7, 4, 4, 512)      0         \n",
            " ng3D)                                                           \n",
            "                                                                 \n",
            " flatten_8 (Flatten)         (None, 57344)             0         \n",
            "                                                                 \n",
            " dense_34 (Dense)            (None, 512)               29360640  \n",
            "                                                                 \n",
            " dense_35 (Dense)            (None, 5)                 2565      \n",
            "                                                                 \n",
            "=================================================================\n",
            "Total params: 33477637 (127.71 MB)\n",
            "Trainable params: 33477637 (127.71 MB)\n",
            "Non-trainable params: 0 (0.00 Byte)\n",
            "_________________________________________________________________\n",
            "None\n"
          ]
        }
      ],
      "source": [
        "# Model 3, Conv3d\n",
        "\n",
        "model_3 = Sequential()\n",
        "\n",
        "model_3.add(Conv3D(32, kernel_size=3, activation='relu', input_shape=input_shape))\n",
        "model_3.add(Conv3D(64, kernel_size=3, activation='relu'))\n",
        "model_3.add(MaxPooling3D(pool_size=(2, 2, 2)))\n",
        "\n",
        "model_3.add(Conv3D(128, kernel_size=3, activation='relu'))\n",
        "model_3.add(MaxPooling3D(pool_size=(1, 2, 2)))\n",
        "\n",
        "model_3.add(Conv3D(256, kernel_size=(1, 3, 3), activation='relu'))\n",
        "model_3.add(MaxPooling3D(pool_size=(1, 2, 2)))\n",
        "\n",
        "model_3.add(Conv3D(512, kernel_size=(1, 3, 3), activation='relu'))\n",
        "model_3.add(Conv3D(512, kernel_size=(1, 3, 3), activation='relu'))\n",
        "model_3.add(MaxPooling3D(pool_size=(1, 2, 2)))\n",
        "\n",
        "model_3.add(Flatten())\n",
        "model_3.add(Dense(512, activation='relu'))\n",
        "model_3.add(Dense(5, activation='softmax'))\n",
        "\n",
        "\n",
        "modelSummary(model_3)\n"
      ]
    },
    {
      "cell_type": "code",
      "execution_count": null,
      "metadata": {
        "colab": {
          "base_uri": "https://localhost:8080/"
        },
        "id": "07BVSB3WyW8p",
        "outputId": "7fbe7567-435c-42b5-8674-57c2adec9929"
      },
      "outputs": [
        {
          "name": "stdout",
          "output_type": "stream",
          "text": [
            "Model: \"sequential_17\"\n",
            "_________________________________________________________________\n",
            " Layer (type)                Output Shape              Param #   \n",
            "=================================================================\n",
            " time_distributed_42 (TimeD  (None, 23, 118, 118, 8)   224       \n",
            " istributed)                                                     \n",
            "                                                                 \n",
            " batch_normalization_32 (Ba  (None, 23, 118, 118, 8)   32        \n",
            " tchNormalization)                                               \n",
            "                                                                 \n",
            " time_distributed_43 (TimeD  (None, 23, 116, 116, 16   1168      \n",
            " istributed)                 )                                   \n",
            "                                                                 \n",
            " batch_normalization_33 (Ba  (None, 23, 116, 116, 16   64        \n",
            " tchNormalization)           )                                   \n",
            "                                                                 \n",
            " conv_lstm2d_2 (ConvLSTM2D)  (None, 114, 114, 8)       6944      \n",
            "                                                                 \n",
            " batch_normalization_34 (Ba  (None, 114, 114, 8)       32        \n",
            " tchNormalization)                                               \n",
            "                                                                 \n",
            " time_distributed_44 (TimeD  (None, 114, 114, 64)      576       \n",
            " istributed)                                                     \n",
            "                                                                 \n",
            " batch_normalization_35 (Ba  (None, 114, 114, 64)      256       \n",
            " tchNormalization)                                               \n",
            "                                                                 \n",
            " global_average_pooling2d_6  (None, 64)                0         \n",
            "  (GlobalAveragePooling2D)                                       \n",
            "                                                                 \n",
            " dense_37 (Dense)            (None, 64)                4160      \n",
            "                                                                 \n",
            " dense_38 (Dense)            (None, 5)                 325       \n",
            "                                                                 \n",
            "=================================================================\n",
            "Total params: 13781 (53.83 KB)\n",
            "Trainable params: 13589 (53.08 KB)\n",
            "Non-trainable params: 192 (768.00 Byte)\n",
            "_________________________________________________________________\n",
            "None\n"
          ]
        }
      ],
      "source": [
        "# Model 4, Time Distributed, Conv2D, ConvLSTM2D and Batch Normalization\n",
        "model_4 = Sequential()\n",
        "model_4.add(TimeDistributed(\n",
        "    Conv2D(8, (3,3), activation='relu'), input_shape=input_shape)\n",
        ")\n",
        "model_4.add(BatchNormalization())\n",
        "model_4.add(TimeDistributed(\n",
        "    Conv2D(16, (3,3), activation='relu'))\n",
        ")\n",
        "model_4.add(BatchNormalization())\n",
        "model_4.add(\n",
        "    ConvLSTM2D(8, kernel_size = 3, return_sequences=False)\n",
        ")\n",
        "model_4.add(BatchNormalization())\n",
        "model_4.add(TimeDistributed(\n",
        "    Dense(64, activation='relu'))\n",
        ")\n",
        "model_4.add(BatchNormalization())\n",
        "model_4.add(GlobalAveragePooling2D())\n",
        "model_4.add(Dense(64, activation='relu'))\n",
        "model_4.add(Dense(5, activation='softmax'))\n",
        "\n",
        "\n",
        "modelSummary(model_4)\n"
      ]
    },
    {
      "cell_type": "code",
      "execution_count": null,
      "metadata": {
        "colab": {
          "base_uri": "https://localhost:8080/"
        },
        "id": "M_8R6aJZ0xkq",
        "outputId": "b876f48e-f143-4567-a1f7-1cb53c67312d"
      },
      "outputs": [
        {
          "name": "stdout",
          "output_type": "stream",
          "text": [
            "Model: \"sequential_18\"\n",
            "_________________________________________________________________\n",
            " Layer (type)                Output Shape              Param #   \n",
            "=================================================================\n",
            " time_distributed_45 (TimeD  (None, 23, 118, 118, 32   896       \n",
            " istributed)                 )                                   \n",
            "                                                                 \n",
            " time_distributed_46 (TimeD  (None, 23, 59, 59, 32)    0         \n",
            " istributed)                                                     \n",
            "                                                                 \n",
            " batch_normalization_36 (Ba  (None, 23, 59, 59, 32)    128       \n",
            " tchNormalization)                                               \n",
            "                                                                 \n",
            " dropout_6 (Dropout)         (None, 23, 59, 59, 32)    0         \n",
            "                                                                 \n",
            " time_distributed_47 (TimeD  (None, 23, 57, 57, 64)    18496     \n",
            " istributed)                                                     \n",
            "                                                                 \n",
            " time_distributed_48 (TimeD  (None, 23, 28, 28, 64)    0         \n",
            " istributed)                                                     \n",
            "                                                                 \n",
            " batch_normalization_37 (Ba  (None, 23, 28, 28, 64)    256       \n",
            " tchNormalization)                                               \n",
            "                                                                 \n",
            " dropout_7 (Dropout)         (None, 23, 28, 28, 64)    0         \n",
            "                                                                 \n",
            " time_distributed_49 (TimeD  (None, 23, 64)            0         \n",
            " istributed)                                                     \n",
            "                                                                 \n",
            " time_distributed_50 (TimeD  (None, 23, 64)            4160      \n",
            " istributed)                                                     \n",
            "                                                                 \n",
            " batch_normalization_38 (Ba  (None, 23, 64)            256       \n",
            " tchNormalization)                                               \n",
            "                                                                 \n",
            " dropout_8 (Dropout)         (None, 23, 64)            0         \n",
            "                                                                 \n",
            " gru_4 (GRU)                 (None, 128)               74496     \n",
            "                                                                 \n",
            " batch_normalization_39 (Ba  (None, 128)               512       \n",
            " tchNormalization)                                               \n",
            "                                                                 \n",
            " dense_40 (Dense)            (None, 5)                 645       \n",
            "                                                                 \n",
            "=================================================================\n",
            "Total params: 99845 (390.02 KB)\n",
            "Trainable params: 99269 (387.77 KB)\n",
            "Non-trainable params: 576 (2.25 KB)\n",
            "_________________________________________________________________\n",
            "None\n"
          ]
        }
      ],
      "source": [
        "# Model 5: Conv2D, GRU\n",
        "model_5 = Sequential()\n",
        "model_5.add(TimeDistributed(\n",
        "    Conv2D(32, (3,3), activation='relu'), input_shape=input_shape)\n",
        ")\n",
        "model_5.add(TimeDistributed(\n",
        "    MaxPooling2D((2,2)))\n",
        ")\n",
        "model_5.add(BatchNormalization())\n",
        "model_5.add(Dropout(0.2))\n",
        "\n",
        "model_5.add(TimeDistributed(\n",
        "    Conv2D(64, (3,3), activation='relu'))\n",
        ")\n",
        "model_5.add(TimeDistributed(\n",
        "    MaxPooling2D((2,2)))\n",
        ")\n",
        "model_5.add(BatchNormalization())\n",
        "model_5.add(Dropout(0.2))\n",
        "\n",
        "model_5.add(TimeDistributed(GlobalAveragePooling2D()))\n",
        "model_5.add(TimeDistributed(Dense(64, activation='relu')))\n",
        "model_5.add(BatchNormalization())\n",
        "model_5.add(Dropout(0.2))\n",
        "\n",
        "model_5.add(GRU(128))\n",
        "model_5.add(BatchNormalization())\n",
        "model_5.add(Dense(5, activation='softmax'))\n",
        "\n",
        "\n",
        "modelSummary(model_5)\n"
      ]
    },
    {
      "cell_type": "code",
      "execution_count": null,
      "metadata": {
        "colab": {
          "base_uri": "https://localhost:8080/"
        },
        "id": "YX2q08fy2tG7",
        "outputId": "7ee58e3a-2a47-4c0e-8ad8-fc9cb0385958"
      },
      "outputs": [
        {
          "name": "stdout",
          "output_type": "stream",
          "text": [
            "Model: \"sequential_19\"\n",
            "_________________________________________________________________\n",
            " Layer (type)                Output Shape              Param #   \n",
            "=================================================================\n",
            " time_distributed_51 (TimeD  (None, 23, 118, 118, 32   896       \n",
            " istributed)                 )                                   \n",
            "                                                                 \n",
            " time_distributed_52 (TimeD  (None, 23, 59, 59, 32)    0         \n",
            " istributed)                                                     \n",
            "                                                                 \n",
            " batch_normalization_40 (Ba  (None, 23, 59, 59, 32)    128       \n",
            " tchNormalization)                                               \n",
            "                                                                 \n",
            " time_distributed_53 (TimeD  (None, 23, 57, 57, 64)    18496     \n",
            " istributed)                                                     \n",
            "                                                                 \n",
            " time_distributed_54 (TimeD  (None, 23, 28, 28, 64)    0         \n",
            " istributed)                                                     \n",
            "                                                                 \n",
            " batch_normalization_41 (Ba  (None, 23, 28, 28, 64)    256       \n",
            " tchNormalization)                                               \n",
            "                                                                 \n",
            " time_distributed_55 (TimeD  (None, 23, 26, 26, 128)   73856     \n",
            " istributed)                                                     \n",
            "                                                                 \n",
            " time_distributed_56 (TimeD  (None, 23, 13, 13, 128)   0         \n",
            " istributed)                                                     \n",
            "                                                                 \n",
            " batch_normalization_42 (Ba  (None, 23, 13, 13, 128)   512       \n",
            " tchNormalization)                                               \n",
            "                                                                 \n",
            " global_average_pooling3d_2  (None, 128)               0         \n",
            "  (GlobalAveragePooling3D)                                       \n",
            "                                                                 \n",
            " dense_41 (Dense)            (None, 256)               33024     \n",
            "                                                                 \n",
            " batch_normalization_43 (Ba  (None, 256)               1024      \n",
            " tchNormalization)                                               \n",
            "                                                                 \n",
            " dense_42 (Dense)            (None, 5)                 1285      \n",
            "                                                                 \n",
            "=================================================================\n",
            "Total params: 129477 (505.77 KB)\n",
            "Trainable params: 128517 (502.02 KB)\n",
            "Non-trainable params: 960 (3.75 KB)\n",
            "_________________________________________________________________\n",
            "None\n"
          ]
        }
      ],
      "source": [
        "# Model 6: Conv2D, GlobalAveragePooling3D, Dense and Batch Normalization\n",
        "model_6 = Sequential()\n",
        "model_6.add(TimeDistributed(\n",
        "    Conv2D(32, (3,3), activation='relu'), input_shape=input_shape)\n",
        ")\n",
        "model_6.add(TimeDistributed(\n",
        "    MaxPooling2D((2,2)))\n",
        ")\n",
        "model_6.add(BatchNormalization())\n",
        "\n",
        "model_6.add(TimeDistributed(\n",
        "    Conv2D(64, (3,3), activation='relu'))\n",
        ")\n",
        "model_6.add(TimeDistributed(\n",
        "    MaxPooling2D((2,2)))\n",
        ")\n",
        "model_6.add(BatchNormalization())\n",
        "\n",
        "model_6.add(TimeDistributed(\n",
        "    Conv2D(128, (3,3), activation='relu'))\n",
        ")\n",
        "model_6.add(TimeDistributed(\n",
        "    MaxPooling2D((2,2)))\n",
        ")\n",
        "model_6.add(BatchNormalization())\n",
        "\n",
        "model_6.add(GlobalAveragePooling3D())\n",
        "model_6.add(Dense(256, activation='relu'))\n",
        "model_6.add(BatchNormalization())\n",
        "model_6.add(Dense(5, activation='softmax'))\n",
        "\n",
        "\n",
        "modelSummary(model_6)\n"
      ]
    },
    {
      "cell_type": "code",
      "execution_count": null,
      "metadata": {
        "colab": {
          "base_uri": "https://localhost:8080/"
        },
        "id": "ONazU5BEmBDS",
        "outputId": "e3cff6c7-a525-4755-c3b8-d3e70d6d737a"
      },
      "outputs": [
        {
          "name": "stdout",
          "output_type": "stream",
          "text": [
            "Model: \"sequential_20\"\n",
            "_________________________________________________________________\n",
            " Layer (type)                Output Shape              Param #   \n",
            "=================================================================\n",
            " time_distributed_57 (TimeD  (None, 23, 118, 118, 32   896       \n",
            " istributed)                 )                                   \n",
            "                                                                 \n",
            " time_distributed_58 (TimeD  (None, 23, 59, 59, 32)    0         \n",
            " istributed)                                                     \n",
            "                                                                 \n",
            " batch_normalization_44 (Ba  (None, 23, 59, 59, 32)    128       \n",
            " tchNormalization)                                               \n",
            "                                                                 \n",
            " time_distributed_59 (TimeD  (None, 23, 57, 57, 64)    18496     \n",
            " istributed)                                                     \n",
            "                                                                 \n",
            " time_distributed_60 (TimeD  (None, 23, 28, 28, 64)    0         \n",
            " istributed)                                                     \n",
            "                                                                 \n",
            " batch_normalization_45 (Ba  (None, 23, 28, 28, 64)    256       \n",
            " tchNormalization)                                               \n",
            "                                                                 \n",
            " time_distributed_61 (TimeD  (None, 23, 64)            0         \n",
            " istributed)                                                     \n",
            "                                                                 \n",
            " time_distributed_62 (TimeD  (None, 23, 64)            4160      \n",
            " istributed)                                                     \n",
            "                                                                 \n",
            " batch_normalization_46 (Ba  (None, 23, 64)            256       \n",
            " tchNormalization)                                               \n",
            "                                                                 \n",
            " gru_5 (GRU)                 (None, 128)               74496     \n",
            "                                                                 \n",
            " batch_normalization_47 (Ba  (None, 128)               512       \n",
            " tchNormalization)                                               \n",
            "                                                                 \n",
            " dense_44 (Dense)            (None, 5)                 645       \n",
            "                                                                 \n",
            "=================================================================\n",
            "Total params: 99845 (390.02 KB)\n",
            "Trainable params: 99269 (387.77 KB)\n",
            "Non-trainable params: 576 (2.25 KB)\n",
            "_________________________________________________________________\n",
            "None\n"
          ]
        }
      ],
      "source": [
        "# Time Distributed, Conv2D\n",
        "model_7 = Sequential()\n",
        "model_7.add(TimeDistributed(Conv2D(32, (3,3), activation='relu'), input_shape=input_shape))\n",
        "model_7.add(TimeDistributed(MaxPooling2D((2,2))))\n",
        "model_7.add(BatchNormalization())\n",
        "\n",
        "model_7.add(TimeDistributed(Conv2D(64, (3,3), activation='relu')))\n",
        "model_7.add(TimeDistributed(MaxPooling2D((2,2))))\n",
        "model_7.add(BatchNormalization())\n",
        "\n",
        "model_7.add(TimeDistributed(GlobalAveragePooling2D()))\n",
        "model_7.add(TimeDistributed(Dense(64, activation='relu')))\n",
        "model_7.add(BatchNormalization())\n",
        "\n",
        "model_7.add(GRU(128))\n",
        "model_7.add(BatchNormalization())\n",
        "model_7.add(Dense(5, activation='softmax'))\n",
        "\n",
        "modelSummary(model_7)\n"
      ]
    },
    {
      "cell_type": "markdown",
      "metadata": {
        "id": "1myuOw6fn6vm"
      },
      "source": [
        "Now that you have written the model, the next step is to `compile` the model. When you print the `summary` of the model, you'll see the total number of parameters you have to train."
      ]
    },
    {
      "cell_type": "markdown",
      "metadata": {
        "id": "Z2kws_gjn6vm"
      },
      "source": [
        "Let us create the `train_generator` and the `val_generator` which will be used in `.fit_generator`."
      ]
    },
    {
      "cell_type": "code",
      "execution_count": 12,
      "metadata": {
        "colab": {
          "base_uri": "https://localhost:8080/"
        },
        "id": "EMdhmi7on6vm",
        "outputId": "18b6c7be-70f1-47fb-97b6-e30f6dc0ed2a"
      },
      "outputs": [
        {
          "output_type": "stream",
          "name": "stdout",
          "text": [
            "train_generator =  <generator object generator at 0x7c0710e72b90>\n",
            "val_generator =  <generator object generator at 0x7c0710e72c70>\n"
          ]
        }
      ],
      "source": [
        "train_generator = generator(train_path, train_doc, batch_size, False)\n",
        "val_generator = generator(val_path, val_doc, batch_size, False)\n",
        "# d_2 = next(train_generator)[0]\n",
        "print('train_generator = ', train_generator)\n",
        "print('val_generator = ',val_generator)"
      ]
    },
    {
      "cell_type": "code",
      "execution_count": 13,
      "metadata": {
        "colab": {
          "base_uri": "https://localhost:8080/"
        },
        "id": "Ysz0m-Ddn6vn",
        "outputId": "cd6772ff-fcca-4a19-c531-d6a96de0ebe0"
      },
      "outputs": [
        {
          "output_type": "stream",
          "name": "stderr",
          "text": [
            "WARNING:tensorflow:`period` argument is deprecated. Please use `save_freq` to specify the frequency in number of batches seen.\n"
          ]
        },
        {
          "output_type": "stream",
          "name": "stdout",
          "text": [
            "[<keras.src.callbacks.ModelCheckpoint object at 0x7c070ed74e80>, <keras.src.callbacks.ReduceLROnPlateau object at 0x7c070ed751e0>]\n"
          ]
        }
      ],
      "source": [
        "model_name = 'model_init' + '_' + str(curr_dt_time).replace(' ','').replace(':','_') + '/'\n",
        "\n",
        "if not os.path.exists(model_name):\n",
        "    os.mkdir(model_name)\n",
        "\n",
        "filepath = model_name + 'model-{epoch:05d}-{loss:.5f}-{categorical_accuracy:.5f}-{val_loss:.5f}-{val_categorical_accuracy:.5f}.h5'\n",
        "\n",
        "checkpoint = ModelCheckpoint(filepath, monitor='val_loss', verbose=1, save_best_only=False, save_weights_only=False, mode='auto', period=1)\n",
        "\n",
        "LR = ReduceLROnPlateau(monitor='val_loss', factor=0.2, patience=5, min_lr=0.001, verbose=1) # write the REducelronplateau code here\n",
        "callbacks_list = [checkpoint, LR]\n",
        "print(callbacks_list)"
      ]
    },
    {
      "cell_type": "markdown",
      "metadata": {
        "id": "SPpQgB_vn6vn"
      },
      "source": [
        "The `steps_per_epoch` and `validation_steps` are used by `fit_generator` to decide the number of next() calls it need to make."
      ]
    },
    {
      "cell_type": "code",
      "execution_count": 14,
      "metadata": {
        "id": "8-d8oWfgn6vn"
      },
      "outputs": [],
      "source": [
        "if (num_train_sequences%batch_size) == 0:\n",
        "    steps_per_epoch = int(num_train_sequences/batch_size)\n",
        "else:\n",
        "    steps_per_epoch = (num_train_sequences//batch_size) + 1\n",
        "\n",
        "if (num_val_sequences%batch_size) == 0:\n",
        "    validation_steps = int(num_val_sequences/batch_size)\n",
        "else:\n",
        "    validation_steps = (num_val_sequences//batch_size) + 1"
      ]
    },
    {
      "cell_type": "markdown",
      "metadata": {
        "id": "dqczlsTWn6vn"
      },
      "source": [
        "Let us now fit the model. This will start training the model and with the help of the checkpoints, you'll be able to save the model at the end of each epoch."
      ]
    },
    {
      "cell_type": "code",
      "execution_count": null,
      "metadata": {
        "colab": {
          "base_uri": "https://localhost:8080/"
        },
        "id": "RnAAj3dyn6vn",
        "outputId": "01f4bbab-43c6-4b7f-8166-a28610a9b0d7"
      },
      "outputs": [
        {
          "metadata": {
            "tags": null
          },
          "name": "stderr",
          "output_type": "stream",
          "text": [
            "<ipython-input-15-527cbe1f2039>:1: UserWarning: `Model.fit_generator` is deprecated and will be removed in a future version. Please use `Model.fit`, which supports generators.\n",
            "  result = model_2.fit_generator(train_generator, steps_per_epoch=steps_per_epoch, epochs=num_epochs, verbose=1,\n"
          ]
        },
        {
          "output_type": "stream",
          "name": "stdout",
          "text": [
            "Source path =  /content/drive/MyDrive/cnn_rnn/train ; batch size = 64 showImage= False\n",
            "Epoch 1/2\n",
            " 6/11 [===============>..............] - ETA: 16:35 - loss: 12762.9990 - categorical_accuracy: 0.1797"
          ]
        }
      ],
      "source": [
        "result = model_2.fit_generator(train_generator, steps_per_epoch=steps_per_epoch, epochs=num_epochs, verbose=1,\n",
        "                        callbacks=callbacks_list, validation_data=val_generator,\n",
        "                        validation_steps=validation_steps, class_weight=None, workers=1, initial_epoch=0)"
      ]
    },
    {
      "cell_type": "code",
      "execution_count": null,
      "metadata": {
        "id": "CU60uw01n6vo"
      },
      "outputs": [],
      "source": [
        "plt.figure(figsize=(20,6))\n",
        "ax1 = plt.subplot(121)\n",
        "ax1 = plt.plot(result.history['loss'])\n",
        "# ax1 = plt.plot(result.history['val_loss'])\n",
        "plt.title('model loss')\n",
        "plt.ylabel('loss')\n",
        "plt.xlabel('epoch')\n",
        "plt.legend(['train', 'validation'], loc='lower left')\n",
        "ax2 = plt.subplot(122)\n",
        "ax2 = plt.plot(result.history['categorical_accuracy'])\n",
        "ax2 = plt.plot(result.history['val_categorical_accuracy'])\n",
        "plt.title('model accuracy')\n",
        "plt.ylabel('categorical_accuracy')\n",
        "plt.xlabel('epoch')\n",
        "plt.legend(['train', 'validation'], loc='lower left')"
      ]
    }
  ],
  "metadata": {
    "colab": {
      "provenance": [],
      "include_colab_link": true
    },
    "kernelspec": {
      "display_name": "Python 3",
      "name": "python3"
    },
    "language_info": {
      "codemirror_mode": {
        "name": "ipython",
        "version": 3
      },
      "file_extension": ".py",
      "mimetype": "text/x-python",
      "name": "python",
      "nbconvert_exporter": "python",
      "pygments_lexer": "ipython3",
      "version": "3.11.5"
    }
  },
  "nbformat": 4,
  "nbformat_minor": 0
}